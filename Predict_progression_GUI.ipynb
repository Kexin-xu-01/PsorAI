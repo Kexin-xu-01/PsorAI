{
 "cells": [
  {
   "cell_type": "code",
   "execution_count": 1,
   "metadata": {},
   "outputs": [],
   "source": [
    "import cv2\n",
    "import matplotlib.pyplot as plt\n",
    "import tensorflow as tf\n",
    "import seaborn as sns\n",
    "import random\n",
    "from PIL import Image\n",
    "from tensorflow.keras.preprocessing import image\n",
    "from tensorflow.keras import Sequential, Model\n",
    "from keras.layers import ( MaxPooling2D, Dense, Flatten, \n",
    "                          Dropout, Input,GlobalAveragePooling2D,BatchNormalization)\n",
    "from tensorflow.keras.activations import softmax\n",
    "from tensorflow.keras.optimizers import Adam\n",
    "from keras.preprocessing.image import ImageDataGenerator\n",
    "from mpl_toolkits.axes_grid1 import ImageGrid\n",
    "from keras.models import Model\n",
    "from keras.applications.vgg16 import VGG16, preprocess_input\n",
    "from keras.callbacks import ModelCheckpoint, EarlyStopping\n",
    "from sklearn.metrics import (ConfusionMatrixDisplay, confusion_matrix, accuracy_score)\n",
    "# Base Libraries\n",
    "from tensorflow.keras.applications import  VGG19\n",
    "from tensorflow.keras.models import Model\n",
    "import numpy as np \n",
    "import pandas as pd\n",
    "import os"
   ]
  },
  {
   "cell_type": "code",
   "execution_count": null,
   "metadata": {},
   "outputs": [],
   "source": [
    "images=[]\n",
    "for i in train['id']:\n",
    "        img=cv2.imread(i)\n",
    "        img = cv2.cvtColor(img, cv2.COLOR_BGR2RGB)\n",
    "        img=cv2.resize(img,(180,180))\n",
    "        images.append(img)"
   ]
  },
  {
   "cell_type": "code",
   "execution_count": null,
   "metadata": {},
   "outputs": [],
   "source": [
    "# Create a list of example inputs to our Gradio demo\n",
    "example_list = [image for image in random.sample(images, k=2)]\n",
    "\n",
    "# Plot the images in a 2x3 grid\n",
    "fig, axes = plt.subplots(1, 2, figsize=(10, 8))\n",
    "\n",
    "for ax, img_array in zip(axes.ravel(), example_list):\n",
    "    ax.imshow(img_array)\n",
    "    ax.axis('off')\n",
    "\n",
    "plt.show()"
   ]
  },
  {
   "cell_type": "code",
   "execution_count": null,
   "metadata": {},
   "outputs": [],
   "source": [
    "data=np.array(images)\n",
    "\n",
    "vgg_model = VGG19(weights = 'imagenet',  include_top = False, input_shape = (180, 180, 3)) \n",
    "# let's make all layers non-trainable\n",
    "for layer in vgg_model.layers : \n",
    "    layer.trainable = False\n",
    "\n",
    "for i in range(3): \n",
    "    # let's make all layers non-trainable\n",
    "    for layer in vgg_model.layers :\n",
    "        layer.trainable = False\n",
    "    features=vgg_model.predict(data)\n",
    "    print(features.shape)\n",
    "    x=features.reshape(num,-1)\n",
    "    print(x.shape)\n",
    "\n",
    "vgg19_feature_list = np.array(x)"
   ]
  },
  {
   "cell_type": "markdown",
   "metadata": {},
   "source": [
    "joblib.load(RF, 'RF_trained_on_dermnet+paper_train.pkl')\n",
    "RF.predict"
   ]
  },
  {
   "cell_type": "markdown",
   "metadata": {},
   "source": [
    "# GUI"
   ]
  },
  {
   "cell_type": "code",
   "execution_count": 2,
   "metadata": {},
   "outputs": [
    {
     "name": "stdout",
     "output_type": "stream",
     "text": [
      "Requirement already satisfied: Pillow in /Users/kexinxu/anaconda3/lib/python3.11/site-packages (9.4.0)\n",
      "Note: you may need to restart the kernel to use updated packages.\n"
     ]
    }
   ],
   "source": [
    "pip install Pillow"
   ]
  },
  {
   "cell_type": "code",
   "execution_count": 3,
   "metadata": {},
   "outputs": [
    {
     "ename": "",
     "evalue": "",
     "output_type": "error",
     "traceback": [
      "\u001b[1;31mThe Kernel crashed while executing code in the the current cell or a previous cell. Please review the code in the cell(s) to identify a possible cause of the failure. Click <a href='https://aka.ms/vscodeJupyterKernelCrash'>here</a> for more info. View Jupyter <a href='command:jupyter.viewOutput'>log</a> for further details."
     ]
    },
    {
     "ename": "",
     "evalue": "",
     "output_type": "error",
     "traceback": [
      "\u001b[1;31mCanceled future for execute_request message before replies were done"
     ]
    }
   ],
   "source": [
    "import tkinter as tk\n",
    "from tkinter import filedialog\n",
    "from PIL import Image, ImageTk\n",
    "import numpy as np\n",
    "\n",
    "# Dummy function for prediction (replace with your actual model)\n",
    "def predict(image_pair):\n",
    "    # Dummy logic, replace with your actual prediction logic\n",
    "    return np.random.choice(['Improved', 'Worsened'])\n",
    "\n",
    "class ImagePairPredictorApp:\n",
    "    def __init__(self, root):\n",
    "        self.root = root\n",
    "        self.root.title(\"Image Pair Predictor\")\n",
    "\n",
    "        # Initialize variables\n",
    "        self.image_paths = [\"\", \"\"]  # Paths for the two images\n",
    "        self.prediction_result = tk.StringVar()\n",
    "\n",
    "        # Create GUI elements\n",
    "        self.create_widgets()\n",
    "\n",
    "    def create_widgets(self):\n",
    "        # Image labels\n",
    "        self.image_labels = [tk.Label(self.root, text=\"Image 1\"), tk.Label(self.root, text=\"Image 2\")]\n",
    "        for i, label in enumerate(self.image_labels):\n",
    "            label.grid(row=i, column=0, padx=10, pady=5)\n",
    "\n",
    "        # Image display\n",
    "        self.image_displays = [tk.Label(self.root), tk.Label(self.root)]\n",
    "        for i, display in enumerate(self.image_displays):\n",
    "            display.grid(row=i, column=1, padx=10, pady=5)\n",
    "\n",
    "        # Button to load images\n",
    "        self.load_button = tk.Button(self.root, text=\"Load Images\", command=self.load_images)\n",
    "        self.load_button.grid(row=2, column=0, columnspan=2, pady=10)\n",
    "\n",
    "        # Button to make prediction\n",
    "        self.predict_button = tk.Button(self.root, text=\"Predict\", command=self.make_prediction)\n",
    "        self.predict_button.grid(row=3, column=0, columnspan=2, pady=10)\n",
    "\n",
    "        # Prediction result label\n",
    "        self.result_label = tk.Label(self.root, textvariable=self.prediction_result)\n",
    "        self.result_label.grid(row=4, column=0, columnspan=2, pady=10)\n",
    "\n",
    "    def load_images(self):\n",
    "        # Open file dialogs to select images\n",
    "        self.image_paths[0] = filedialog.askopenfilename(title=\"Select Image 1\", filetypes=[(\"Image files\", \"*.png;*.jpg;*.jpeg\")])\n",
    "        self.image_paths[1] = filedialog.askopenfilename(title=\"Select Image 2\", filetypes=[(\"Image files\", \"*.png;*.jpg;*.jpeg\")])\n",
    "\n",
    "        # Display selected images\n",
    "        for i, image_path in enumerate(self.image_paths):\n",
    "            image = Image.open(image_path)\n",
    "            image = image.resize((150, 150), Image.ANTIALIAS)\n",
    "            photo = ImageTk.PhotoImage(image)\n",
    "            self.image_displays[i].configure(image=photo)\n",
    "            self.image_displays[i].image = photo\n",
    "\n",
    "    def make_prediction(self):\n",
    "        # Check if both images are loaded\n",
    "        if all(path != \"\" for path in self.image_paths):\n",
    "            # Dummy call to the predict function (replace with actual model prediction)\n",
    "            prediction = predict(self.image_paths)\n",
    "            self.prediction_result.set(f\"Prediction: {prediction}\")\n",
    "        else:\n",
    "            self.prediction_result.set(\"Please load both images before predicting\")\n",
    "\n",
    "if __name__ == \"__main__\":\n",
    "    root = tk.Tk()\n",
    "    app = ImagePairPredictorApp(root)\n",
    "    root.mainloop()\n"
   ]
  },
  {
   "cell_type": "code",
   "execution_count": 1,
   "metadata": {},
   "outputs": [
    {
     "data": {
      "application/vnd.jupyter.widget-view+json": {
       "model_id": "33f654bb319848e88b9cae8be2dc690e",
       "version_major": 2,
       "version_minor": 0
      },
      "text/plain": [
       "FileUpload(value=(), accept='image/*', description='Upload')"
      ]
     },
     "metadata": {},
     "output_type": "display_data"
    }
   ],
   "source": [
    "from ipywidgets import widgets\n",
    "from IPython.display import display, clear_output\n",
    "import io\n",
    "from PIL import Image\n",
    "\n",
    "# Function to handle file upload\n",
    "def on_file_upload(change):\n",
    "    # Clear previous output\n",
    "    clear_output()\n",
    "\n",
    "    # Get uploaded file content\n",
    "    content = file_upload.value['content']\n",
    "\n",
    "    # Convert content to image\n",
    "    img = Image.open(io.BytesIO(content))\n",
    "\n",
    "    # Display the uploaded image\n",
    "    display(img)\n",
    "\n",
    "    # Perform prediction or any other processing here\n",
    "    # Example: print the size of the uploaded image\n",
    "    print(\"Image Size:\", img.size)\n",
    "\n",
    "# Create file upload widget\n",
    "file_upload = widgets.FileUpload(accept='image/*', multiple=False)\n",
    "\n",
    "# Attach the file upload handler\n",
    "file_upload.observe(on_file_upload, names='data')\n",
    "\n",
    "# Display the file upload widget\n",
    "display(file_upload)"
   ]
  },
  {
   "cell_type": "code",
   "execution_count": 2,
   "metadata": {},
   "outputs": [
    {
     "data": {
      "application/vnd.jupyter.widget-view+json": {
       "model_id": "cdb0e6c23d6d4cc8aa22d9ee97a629d4",
       "version_major": 2,
       "version_minor": 0
      },
      "text/plain": [
       "FileUpload(value=(), accept='image/*', description='Upload')"
      ]
     },
     "metadata": {},
     "output_type": "display_data"
    }
   ],
   "source": [
    "from ipywidgets import widgets\n",
    "from IPython.display import display, clear_output\n",
    "import io\n",
    "from PIL import Image\n",
    "\n",
    "# Load your prediction function and trained model here\n",
    "# Example:\n",
    "# from your_module import predict\n",
    "# from your_module import load_and_preprocess_images\n",
    "\n",
    "# Function to handle file upload and make predictions\n",
    "def on_file_upload(change):\n",
    "    # Clear previous output\n",
    "    clear_output()\n",
    "\n",
    "    # Get uploaded file content\n",
    "    content = file_upload.value['content']\n",
    "\n",
    "    # Convert content to image\n",
    "    img = Image.open(io.BytesIO(content))\n",
    "\n",
    "    # Display the uploaded image\n",
    "    display(img)\n",
    "\n",
    "    # Perform prediction\n",
    "    image_paths = [\"path_to_image1.jpg\", \"path_to_image2.jpg\"]  # Update with actual paths\n",
    "    prediction = predict(image_paths)\n",
    "\n",
    "    # Display the prediction result\n",
    "    print(\"Prediction:\", image_paths[1], \"has\", prediction, \"from\", image_paths[0])\n",
    "\n",
    "# Create file upload widget\n",
    "file_upload = widgets.FileUpload(accept='image/*', multiple=False)\n",
    "\n",
    "# Attach the file upload handler\n",
    "file_upload.observe(on_file_upload, names='data')\n",
    "\n",
    "# Display the file upload widget\n",
    "display(file_upload)\n"
   ]
  },
  {
   "cell_type": "code",
   "execution_count": 3,
   "metadata": {},
   "outputs": [
    {
     "data": {
      "application/vnd.jupyter.widget-view+json": {
       "model_id": "8399c1051c2e4767874c44dd925bab1d",
       "version_major": 2,
       "version_minor": 0
      },
      "text/plain": [
       "FileUpload(value=(), accept='image/*', description='Upload')"
      ]
     },
     "metadata": {},
     "output_type": "display_data"
    }
   ],
   "source": [
    "from ipywidgets import widgets\n",
    "from IPython.display import display, clear_output\n",
    "import io\n",
    "from PIL import Image\n",
    "\n",
    "# Function to handle file upload and make predictions\n",
    "def on_file_upload(change):\n",
    "    # Clear previous output\n",
    "    clear_output()\n",
    "\n",
    "    # Get uploaded file content\n",
    "    content = file_upload.value['content']\n",
    "\n",
    "    # Convert content to image\n",
    "    img = Image.open(io.BytesIO(content))\n",
    "\n",
    "    # Display the uploaded image\n",
    "    display(img)\n",
    "\n",
    "    # Perform prediction\n",
    "    image_paths = [\"path_to_image1.jpg\", \"path_to_image2.jpg\"]  # Update with actual paths\n",
    "    prediction = predict(image_paths)\n",
    "\n",
    "    # Display the prediction result\n",
    "    print(\"Prediction:\", image_paths[1], \"has\", prediction, \"from\", image_paths[0])\n",
    "\n",
    "# Create file upload widget\n",
    "file_upload = widgets.FileUpload(accept='image/*', multiple=False)\n",
    "\n",
    "# Attach the file upload handler\n",
    "file_upload.observe(on_file_upload, names='data')\n",
    "\n",
    "# Display the file upload widget\n",
    "display(file_upload)\n"
   ]
  }
 ],
 "metadata": {
  "kernelspec": {
   "display_name": "base",
   "language": "python",
   "name": "python3"
  },
  "language_info": {
   "codemirror_mode": {
    "name": "ipython",
    "version": 3
   },
   "file_extension": ".py",
   "mimetype": "text/x-python",
   "name": "python",
   "nbconvert_exporter": "python",
   "pygments_lexer": "ipython3",
   "version": "3.11.5"
  }
 },
 "nbformat": 4,
 "nbformat_minor": 2
}
